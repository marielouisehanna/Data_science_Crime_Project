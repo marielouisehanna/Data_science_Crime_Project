{
 "cells": [
  {
   "cell_type": "code",
   "execution_count": 6,
   "metadata": {},
   "outputs": [
    {
     "name": "stdout",
     "output_type": "stream",
     "text": [
      "Data loaded successfully.\n",
      "Top 10 Most Affected Records:\n",
      "                      company  year       records   organization_type  \\\n",
      "0                Keepnet Labs  2020  5.000000e+10        organization   \n",
      "1                         AIS  2020  8.300000e+09        organization   \n",
      "2                    Facebook  2020  5.400000e+09                tech   \n",
      "3                Clearview AI  2020  3.000000e+09                tech   \n",
      "4                       Yahoo  2013  3.000000e+09                tech   \n",
      "5         Big Asian Data Leak  2020  2.700000e+09                 web   \n",
      "6                     Bluekai  2020  2.000000e+09        organization   \n",
      "7                       Canva  2020  1.390000e+09                tech   \n",
      "8  First American Corporation  2020  8.850000e+08  finance/consulting   \n",
      "9  First American Corporation  2019  8.850000e+08        organization   \n",
      "\n",
      "             method  \n",
      "0           hacking  \n",
      "1           hacking  \n",
      "2             other  \n",
      "3           hacking  \n",
      "4           hacking  \n",
      "5  misconfiguration  \n",
      "6           hacking  \n",
      "7           hacking  \n",
      "8  misconfiguration  \n",
      "9     poor_security  \n"
     ]
    }
   ],
   "source": [
    "# Import required libraries\n",
    "import pandas as pd\n",
    "import pandasql as psql\n",
    "\n",
    "# Load the data from the specified path\n",
    "data = pd.read_csv(r\"C:\\Users\\marie\\Desktop\\data\\Data_science_Crime_Project\\data\\processed_data.csv\")\n",
    "print(\"Data loaded successfully.\")\n",
    "\n",
    "# Clean and convert `Records` column to numeric\n",
    "# Remove any commas from `Records` column and convert to numeric\n",
    "data['records'] = data['records'].replace({',': ''}, regex=True)  # Removes commas if present\n",
    "data['records'] = pd.to_numeric(data['records'], errors='coerce')  # Converts to numeric, handling errors as NaN\n",
    "\n",
    "# Drop rows with missing values in `Records` to avoid any errors during sorting\n",
    "data = data.dropna(subset=['records'])\n",
    "\n",
    "# SQL query to get the top 10 most affected records based on 'Records' column\n",
    "query = \"\"\"\n",
    "    SELECT *\n",
    "    FROM data\n",
    "    ORDER BY records DESC\n",
    "    LIMIT 10\n",
    "\"\"\"\n",
    "\n",
    "# Execute the query\n",
    "top_affected_records = psql.sqldf(query, locals())\n",
    "print(\"Top 10 Most Affected Records:\")\n",
    "print(top_affected_records)\n"
   ]
  }
 ],
 "metadata": {
  "kernelspec": {
   "display_name": "Python 3",
   "language": "python",
   "name": "python3"
  },
  "language_info": {
   "codemirror_mode": {
    "name": "ipython",
    "version": 3
   },
   "file_extension": ".py",
   "mimetype": "text/x-python",
   "name": "python",
   "nbconvert_exporter": "python",
   "pygments_lexer": "ipython3",
   "version": "3.11.3"
  }
 },
 "nbformat": 4,
 "nbformat_minor": 2
}
