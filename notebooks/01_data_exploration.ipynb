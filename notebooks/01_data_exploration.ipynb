{
 "cells": [
  {
   "cell_type": "code",
   "execution_count": 2,
   "metadata": {},
   "outputs": [
    {
     "name": "stdout",
     "output_type": "stream",
     "text": [
      "{'Mean': 84403878.0619469, 'Median': 26724.0, 'Standard Deviation': 1525707810.2239115, 'Minimum': 0.0, 'Maximum': 50000000000.0}\n"
     ]
    }
   ],
   "source": [
    "import pandas as pd\n",
    "\n",
    "# Load the dataset from the CSV file\n",
    "data = pd.read_csv(r\"C:\\Users\\marie\\Desktop\\data\\Data_science_Crime_Project\\data\\processed_data.csv\")\n",
    "\n",
    "# Convert the 'records' column to numeric, removing commas\n",
    "data['records'] = pd.to_numeric(data['records'].str.replace(',', ''), errors='coerce')\n",
    "\n",
    "# Calculating descriptive statistics for the 'records' column\n",
    "mean_records = data['records'].mean()\n",
    "median_records = data['records'].median()\n",
    "std_records = data['records'].std()\n",
    "min_records = data['records'].min()\n",
    "max_records = data['records'].max()\n",
    "\n",
    "# Storing the results in a dictionary\n",
    "summary_statistics = {\n",
    "    'Mean': mean_records,\n",
    "    'Median': median_records,\n",
    "    'Standard Deviation': std_records,\n",
    "    'Minimum': min_records,\n",
    "    'Maximum': max_records\n",
    "}\n",
    "\n",
    "# Printing the summary statistics\n",
    "print(summary_statistics)\n"
   ]
  }
 ],
 "metadata": {
  "kernelspec": {
   "display_name": "Python 3",
   "language": "python",
   "name": "python3"
  },
  "language_info": {
   "codemirror_mode": {
    "name": "ipython",
    "version": 3
   },
   "file_extension": ".py",
   "mimetype": "text/x-python",
   "name": "python",
   "nbconvert_exporter": "python",
   "pygments_lexer": "ipython3",
   "version": "3.11.3"
  }
 },
 "nbformat": 4,
 "nbformat_minor": 2
}
