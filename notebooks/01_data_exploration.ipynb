{
 "cells": [
  {
   "cell_type": "code",
   "execution_count": 1,
   "metadata": {},
   "outputs": [
    {
     "name": "stdout",
     "output_type": "stream",
     "text": [
      "{'Mean': 84403878.0619469, 'Median': 26724.0, 'Standard Deviation': 1525707810.2239115, 'Minimum': 0.0, 'Maximum': 50000000000.0}\n"
     ]
    }
   ],
   "source": [
    "import pandas as pd\n",
    "\n",
    "# Load the dataset from the CSV file\n",
    "data = pd.read_csv(r\"C:\\Users\\marie\\Desktop\\data\\Data_science_Crime_Project\\data\\processed_data.csv\")\n",
    "\n",
    "# Convert the 'records' column to numeric, removing commas\n",
    "data['records'] = pd.to_numeric(data['records'].str.replace(',', ''), errors='coerce')\n",
    "\n",
    "# Calculating descriptive statistics for the 'records' column\n",
    "mean_records = data['records'].mean()\n",
    "median_records = data['records'].median()\n",
    "std_records = data['records'].std()\n",
    "min_records = data['records'].min()\n",
    "max_records = data['records'].max()\n",
    "\n",
    "# Storing the results in a dictionary\n",
    "summary_statistics = {\n",
    "    'Mean': mean_records,\n",
    "    'Median': median_records,\n",
    "    'Standard Deviation': std_records,\n",
    "    'Minimum': min_records,\n",
    "    'Maximum': max_records\n",
    "}\n",
    "\n",
    "# Printing the summary statistics\n",
    "print(summary_statistics)\n"
   ]
  },
  {
   "cell_type": "code",
   "execution_count": 3,
   "metadata": {},
   "outputs": [
    {
     "name": "stdout",
     "output_type": "stream",
     "text": [
      "Step 1: Data Loading and Initial Inspection\n",
      "Data Info:\n",
      "<class 'pandas.core.frame.DataFrame'>\n",
      "RangeIndex: 1131 entries, 0 to 1130\n",
      "Data columns (total 5 columns):\n",
      " #   Column             Non-Null Count  Dtype \n",
      "---  ------             --------------  ----- \n",
      " 0   company            1131 non-null   object\n",
      " 1   year               1131 non-null   int64 \n",
      " 2   records            1131 non-null   object\n",
      " 3   organization_type  1131 non-null   object\n",
      " 4   method             1131 non-null   object\n",
      "dtypes: int64(1), object(4)\n",
      "memory usage: 44.3+ KB\n",
      "\n",
      "First 5 Rows of Data:\n",
      "              company  year     records   organization_type            method\n",
      "0     1177 Care Guide  2020  2700000.00  medical/healthcare       third-party\n",
      "1            1to1help  2020   300000.00  medical/healthcare  misconfiguration\n",
      "2                3fun  2020  1500000.00                 app  misconfiguration\n",
      "3          Adobe Inc.  2020  7500000.00                tech  misconfiguration\n",
      "4  AgusiQ-Torrents.pl  2020    90478.00                 web           hacking\n"
     ]
    }
   ],
   "source": [
    "import pandas as pd\n",
    "import numpy as np\n",
    "# Load the dataset\n",
    "data = pd.read_csv(r\"C:\\Users\\marie\\Desktop\\data\\Data_science_Crime_Project\\data\\processed_data.csv\")  # Replace \"file_path.csv\" with your file path\n",
    "\n",
    "# Step 1: Data Loading and Initial Inspection\n",
    "print(\"Step 1: Data Loading and Initial Inspection\")\n",
    "print(\"Data Info:\")\n",
    "data.info()\n",
    "print(\"\\nFirst 5 Rows of Data:\")\n",
    "print(data.head())"
   ]
  },
  {
   "cell_type": "code",
   "execution_count": 4,
   "metadata": {},
   "outputs": [
    {
     "name": "stdout",
     "output_type": "stream",
     "text": [
      "\n",
      "Step 2: Data Cleaning and Handling Missing Values\n",
      "Missing Values Count:\n",
      "company              0\n",
      "year                 0\n",
      "records              0\n",
      "organization_type    0\n",
      "method               0\n",
      "dtype: int64\n"
     ]
    }
   ],
   "source": [
    "# Step 2: Data Cleaning and Handling Missing Values\n",
    "print(\"\\nStep 2: Data Cleaning and Handling Missing Values\")\n",
    "print(\"Missing Values Count:\")\n",
    "print(data.isnull().sum())\n",
    "\n",
    "# Optionally, drop or fill missing values\n",
    "# Drop rows or columns with too many missing values (e.g., columns with over 50% missing)\n",
    "threshold = 0.5\n",
    "data = data.dropna(thresh=int(threshold * len(data)), axis=1)\n",
    "\n",
    "# For remaining missing values, you can use mean/mode imputation\n",
    "# Example for filling numerical columns with mean\n",
    "for col in data.select_dtypes(include=np.number).columns:\n",
    "    data[col].fillna(data[col].mean(), inplace=True)\n",
    "\n",
    "# Example for filling categorical columns with mode\n",
    "for col in data.select_dtypes(include=\"object\").columns:\n",
    "    data[col].fillna(data[col].mode()[0], inplace=True)"
   ]
  },
  {
   "cell_type": "code",
   "execution_count": 5,
   "metadata": {},
   "outputs": [
    {
     "name": "stdout",
     "output_type": "stream",
     "text": [
      "\n",
      "Step 3: Univariate Analysis\n",
      "Statistical Summary for Numerical Columns:\n",
      "              year\n",
      "count  1131.000000\n",
      "mean   2017.229885\n",
      "std       3.300607\n",
      "min    2011.000000\n",
      "25%    2014.000000\n",
      "50%    2019.000000\n",
      "75%    2020.000000\n",
      "max    2020.000000\n",
      "\n",
      "Value Counts for Categorical Columns:\n",
      "\n",
      "company Value Counts:\n",
      "company\n",
      "Facebook                                                                   8\n",
      "StayWell Health Management, LLC                                            6\n",
      "Oregon Health & Science University                                         3\n",
      "ZDI                                                                        3\n",
      "University of California, San Francisco                                    3\n",
      "                                                                          ..\n",
      "Advocate Health and Hospitals Corporation, d/b/a Advocate Medical Group    1\n",
      "Summit Community Care Clinic, Inc.                                         1\n",
      "Kaiser Foundation Health Plan of the Northwest                             1\n",
      "Hankyu Chung, M.D.                                                         1\n",
      "Henry Ford Health System                                                   1\n",
      "Name: count, Length: 1029, dtype: int64\n",
      "\n",
      "records Value Counts:\n",
      "records\n",
      "0          20\n",
      "1          18\n",
      "1000       10\n",
      "1000000     9\n",
      "1500000     8\n",
      "           ..\n",
      "37000       1\n",
      "729000      1\n",
      "5840        1\n",
      "603         1\n",
      "7029        1\n",
      "Name: count, Length: 883, dtype: int64\n",
      "\n",
      "organization_type Value Counts:\n",
      "organization_type\n",
      "medical/healthcare           476\n",
      "organization                 284\n",
      "tech                         167\n",
      "web                           63\n",
      "government/military           54\n",
      "education/academic            23\n",
      "retail/hospitality            21\n",
      "finance/consulting            18\n",
      "telecommunications             9\n",
      "automotive/transportation      5\n",
      "other                          4\n",
      "gaming                         4\n",
      "app                            3\n",
      "Name: count, dtype: int64\n",
      "\n",
      "method Value Counts:\n",
      "method\n",
      "hacking             679\n",
      "lost/stolen         184\n",
      "misconfiguration     99\n",
      "other                66\n",
      "poor_security        41\n",
      "inside_job           26\n",
      "accidental           22\n",
      "third-party          12\n",
      "unprotected           2\n",
      "Name: count, dtype: int64\n"
     ]
    }
   ],
   "source": [
    "# Step 3: Univariate Analysis\n",
    "print(\"\\nStep 3: Univariate Analysis\")\n",
    "# Describe numerical columns\n",
    "print(\"Statistical Summary for Numerical Columns:\")\n",
    "print(data.describe())\n",
    "\n",
    "# Display value counts for categorical columns\n",
    "print(\"\\nValue Counts for Categorical Columns:\")\n",
    "for col in data.select_dtypes(include=\"object\").columns:\n",
    "    print(f\"\\n{col} Value Counts:\")\n",
    "    print(data[col].value_counts())"
   ]
  },
  {
   "cell_type": "code",
   "execution_count": 6,
   "metadata": {},
   "outputs": [
    {
     "name": "stdout",
     "output_type": "stream",
     "text": [
      "\n",
      "Step 4: Bivariate Analysis\n",
      "Correlation Matrix for Numerical Columns:\n"
     ]
    },
    {
     "ename": "ValueError",
     "evalue": "could not convert string to float: '1177 Care Guide'",
     "output_type": "error",
     "traceback": [
      "\u001b[1;31m---------------------------------------------------------------------------\u001b[0m",
      "\u001b[1;31mValueError\u001b[0m                                Traceback (most recent call last)",
      "Cell \u001b[1;32mIn[6], line 5\u001b[0m\n\u001b[0;32m      3\u001b[0m \u001b[38;5;66;03m# Display correlation matrix for numerical columns\u001b[39;00m\n\u001b[0;32m      4\u001b[0m \u001b[38;5;28mprint\u001b[39m(\u001b[38;5;124m\"\u001b[39m\u001b[38;5;124mCorrelation Matrix for Numerical Columns:\u001b[39m\u001b[38;5;124m\"\u001b[39m)\n\u001b[1;32m----> 5\u001b[0m corr_matrix \u001b[38;5;241m=\u001b[39m \u001b[43mdata\u001b[49m\u001b[38;5;241;43m.\u001b[39;49m\u001b[43mcorr\u001b[49m\u001b[43m(\u001b[49m\u001b[43m)\u001b[49m\n\u001b[0;32m      6\u001b[0m \u001b[38;5;28mprint\u001b[39m(corr_matrix)\n",
      "File \u001b[1;32mc:\\Users\\marie\\AppData\\Local\\Programs\\Python\\Python311\\Lib\\site-packages\\pandas\\core\\frame.py:10704\u001b[0m, in \u001b[0;36mDataFrame.corr\u001b[1;34m(self, method, min_periods, numeric_only)\u001b[0m\n\u001b[0;32m  10702\u001b[0m cols \u001b[38;5;241m=\u001b[39m data\u001b[38;5;241m.\u001b[39mcolumns\n\u001b[0;32m  10703\u001b[0m idx \u001b[38;5;241m=\u001b[39m cols\u001b[38;5;241m.\u001b[39mcopy()\n\u001b[1;32m> 10704\u001b[0m mat \u001b[38;5;241m=\u001b[39m \u001b[43mdata\u001b[49m\u001b[38;5;241;43m.\u001b[39;49m\u001b[43mto_numpy\u001b[49m\u001b[43m(\u001b[49m\u001b[43mdtype\u001b[49m\u001b[38;5;241;43m=\u001b[39;49m\u001b[38;5;28;43mfloat\u001b[39;49m\u001b[43m,\u001b[49m\u001b[43m \u001b[49m\u001b[43mna_value\u001b[49m\u001b[38;5;241;43m=\u001b[39;49m\u001b[43mnp\u001b[49m\u001b[38;5;241;43m.\u001b[39;49m\u001b[43mnan\u001b[49m\u001b[43m,\u001b[49m\u001b[43m \u001b[49m\u001b[43mcopy\u001b[49m\u001b[38;5;241;43m=\u001b[39;49m\u001b[38;5;28;43;01mFalse\u001b[39;49;00m\u001b[43m)\u001b[49m\n\u001b[0;32m  10706\u001b[0m \u001b[38;5;28;01mif\u001b[39;00m method \u001b[38;5;241m==\u001b[39m \u001b[38;5;124m\"\u001b[39m\u001b[38;5;124mpearson\u001b[39m\u001b[38;5;124m\"\u001b[39m:\n\u001b[0;32m  10707\u001b[0m     correl \u001b[38;5;241m=\u001b[39m libalgos\u001b[38;5;241m.\u001b[39mnancorr(mat, minp\u001b[38;5;241m=\u001b[39mmin_periods)\n",
      "File \u001b[1;32mc:\\Users\\marie\\AppData\\Local\\Programs\\Python\\Python311\\Lib\\site-packages\\pandas\\core\\frame.py:1889\u001b[0m, in \u001b[0;36mDataFrame.to_numpy\u001b[1;34m(self, dtype, copy, na_value)\u001b[0m\n\u001b[0;32m   1887\u001b[0m \u001b[38;5;28;01mif\u001b[39;00m dtype \u001b[38;5;129;01mis\u001b[39;00m \u001b[38;5;129;01mnot\u001b[39;00m \u001b[38;5;28;01mNone\u001b[39;00m:\n\u001b[0;32m   1888\u001b[0m     dtype \u001b[38;5;241m=\u001b[39m np\u001b[38;5;241m.\u001b[39mdtype(dtype)\n\u001b[1;32m-> 1889\u001b[0m result \u001b[38;5;241m=\u001b[39m \u001b[38;5;28;43mself\u001b[39;49m\u001b[38;5;241;43m.\u001b[39;49m\u001b[43m_mgr\u001b[49m\u001b[38;5;241;43m.\u001b[39;49m\u001b[43mas_array\u001b[49m\u001b[43m(\u001b[49m\u001b[43mdtype\u001b[49m\u001b[38;5;241;43m=\u001b[39;49m\u001b[43mdtype\u001b[49m\u001b[43m,\u001b[49m\u001b[43m \u001b[49m\u001b[43mcopy\u001b[49m\u001b[38;5;241;43m=\u001b[39;49m\u001b[43mcopy\u001b[49m\u001b[43m,\u001b[49m\u001b[43m \u001b[49m\u001b[43mna_value\u001b[49m\u001b[38;5;241;43m=\u001b[39;49m\u001b[43mna_value\u001b[49m\u001b[43m)\u001b[49m\n\u001b[0;32m   1890\u001b[0m \u001b[38;5;28;01mif\u001b[39;00m result\u001b[38;5;241m.\u001b[39mdtype \u001b[38;5;129;01mis\u001b[39;00m \u001b[38;5;129;01mnot\u001b[39;00m dtype:\n\u001b[0;32m   1891\u001b[0m     result \u001b[38;5;241m=\u001b[39m np\u001b[38;5;241m.\u001b[39marray(result, dtype\u001b[38;5;241m=\u001b[39mdtype, copy\u001b[38;5;241m=\u001b[39m\u001b[38;5;28;01mFalse\u001b[39;00m)\n",
      "File \u001b[1;32mc:\\Users\\marie\\AppData\\Local\\Programs\\Python\\Python311\\Lib\\site-packages\\pandas\\core\\internals\\managers.py:1656\u001b[0m, in \u001b[0;36mBlockManager.as_array\u001b[1;34m(self, dtype, copy, na_value)\u001b[0m\n\u001b[0;32m   1654\u001b[0m         arr\u001b[38;5;241m.\u001b[39mflags\u001b[38;5;241m.\u001b[39mwriteable \u001b[38;5;241m=\u001b[39m \u001b[38;5;28;01mFalse\u001b[39;00m\n\u001b[0;32m   1655\u001b[0m \u001b[38;5;28;01melse\u001b[39;00m:\n\u001b[1;32m-> 1656\u001b[0m     arr \u001b[38;5;241m=\u001b[39m \u001b[38;5;28;43mself\u001b[39;49m\u001b[38;5;241;43m.\u001b[39;49m\u001b[43m_interleave\u001b[49m\u001b[43m(\u001b[49m\u001b[43mdtype\u001b[49m\u001b[38;5;241;43m=\u001b[39;49m\u001b[43mdtype\u001b[49m\u001b[43m,\u001b[49m\u001b[43m \u001b[49m\u001b[43mna_value\u001b[49m\u001b[38;5;241;43m=\u001b[39;49m\u001b[43mna_value\u001b[49m\u001b[43m)\u001b[49m\n\u001b[0;32m   1657\u001b[0m     \u001b[38;5;66;03m# The underlying data was copied within _interleave, so no need\u001b[39;00m\n\u001b[0;32m   1658\u001b[0m     \u001b[38;5;66;03m# to further copy if copy=True or setting na_value\u001b[39;00m\n\u001b[0;32m   1660\u001b[0m \u001b[38;5;28;01mif\u001b[39;00m na_value \u001b[38;5;129;01mis\u001b[39;00m lib\u001b[38;5;241m.\u001b[39mno_default:\n",
      "File \u001b[1;32mc:\\Users\\marie\\AppData\\Local\\Programs\\Python\\Python311\\Lib\\site-packages\\pandas\\core\\internals\\managers.py:1715\u001b[0m, in \u001b[0;36mBlockManager._interleave\u001b[1;34m(self, dtype, na_value)\u001b[0m\n\u001b[0;32m   1713\u001b[0m     \u001b[38;5;28;01melse\u001b[39;00m:\n\u001b[0;32m   1714\u001b[0m         arr \u001b[38;5;241m=\u001b[39m blk\u001b[38;5;241m.\u001b[39mget_values(dtype)\n\u001b[1;32m-> 1715\u001b[0m     \u001b[43mresult\u001b[49m\u001b[43m[\u001b[49m\u001b[43mrl\u001b[49m\u001b[38;5;241;43m.\u001b[39;49m\u001b[43mindexer\u001b[49m\u001b[43m]\u001b[49m \u001b[38;5;241m=\u001b[39m arr\n\u001b[0;32m   1716\u001b[0m     itemmask[rl\u001b[38;5;241m.\u001b[39mindexer] \u001b[38;5;241m=\u001b[39m \u001b[38;5;241m1\u001b[39m\n\u001b[0;32m   1718\u001b[0m \u001b[38;5;28;01mif\u001b[39;00m \u001b[38;5;129;01mnot\u001b[39;00m itemmask\u001b[38;5;241m.\u001b[39mall():\n",
      "\u001b[1;31mValueError\u001b[0m: could not convert string to float: '1177 Care Guide'"
     ]
    }
   ],
   "source": [
    "# Step 4: Bivariate Analysis\n",
    "print(\"\\nStep 4: Bivariate Analysis\")\n",
    "# Display correlation matrix for numerical columns\n",
    "print(\"Correlation Matrix for Numerical Columns:\")\n",
    "corr_matrix = data.corr()\n",
    "print(corr_matrix)"
   ]
  },
  {
   "cell_type": "code",
   "execution_count": 7,
   "metadata": {},
   "outputs": [
    {
     "name": "stdout",
     "output_type": "stream",
     "text": [
      "\n",
      "Step 5: Summary and Key Insights\n",
      "Highest Correlations:\n"
     ]
    },
    {
     "ename": "NameError",
     "evalue": "name 'corr_matrix' is not defined",
     "output_type": "error",
     "traceback": [
      "\u001b[1;31m---------------------------------------------------------------------------\u001b[0m",
      "\u001b[1;31mNameError\u001b[0m                                 Traceback (most recent call last)",
      "Cell \u001b[1;32mIn[7], line 5\u001b[0m\n\u001b[0;32m      3\u001b[0m \u001b[38;5;66;03m# Print summary statistics for further insights\u001b[39;00m\n\u001b[0;32m      4\u001b[0m \u001b[38;5;28mprint\u001b[39m(\u001b[38;5;124m\"\u001b[39m\u001b[38;5;124mHighest Correlations:\u001b[39m\u001b[38;5;124m\"\u001b[39m)\n\u001b[1;32m----> 5\u001b[0m \u001b[38;5;28mprint\u001b[39m(\u001b[43mcorr_matrix\u001b[49m\u001b[38;5;241m.\u001b[39munstack()\u001b[38;5;241m.\u001b[39msort_values(ascending\u001b[38;5;241m=\u001b[39m\u001b[38;5;28;01mFalse\u001b[39;00m)\u001b[38;5;241m.\u001b[39mdrop_duplicates()\u001b[38;5;241m.\u001b[39mhead(\u001b[38;5;241m10\u001b[39m))\n\u001b[0;32m      7\u001b[0m \u001b[38;5;28mprint\u001b[39m(\u001b[38;5;124m\"\u001b[39m\u001b[38;5;124mPotential areas of further exploration include strong correlations, unique distributions, or outliers identified above.\u001b[39m\u001b[38;5;124m\"\u001b[39m)\n",
      "\u001b[1;31mNameError\u001b[0m: name 'corr_matrix' is not defined"
     ]
    }
   ],
   "source": [
    "# Step 5: Summary and Key Insights\n",
    "print(\"\\nStep 5: Summary and Key Insights\")\n",
    "# Print summary statistics for further insights\n",
    "print(\"Highest Correlations:\")\n",
    "print(corr_matrix.unstack().sort_values(ascending=False).drop_duplicates().head(10))\n",
    "\n",
    "print(\"Potential areas of further exploration include strong correlations, unique distributions, or outliers identified above.\")"
   ]
  }
 ],
 "metadata": {
  "kernelspec": {
   "display_name": "Python 3",
   "language": "python",
   "name": "python3"
  },
  "language_info": {
   "codemirror_mode": {
    "name": "ipython",
    "version": 3
   },
   "file_extension": ".py",
   "mimetype": "text/x-python",
   "name": "python",
   "nbconvert_exporter": "python",
   "pygments_lexer": "ipython3",
   "version": "3.11.3"
  }
 },
 "nbformat": 4,
 "nbformat_minor": 2
}
